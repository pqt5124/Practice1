{
  "nbformat": 4,
  "nbformat_minor": 0,
  "metadata": {
    "colab": {
      "name": "Lab1Final.ipynb",
      "provenance": [],
      "collapsed_sections": [],
      "authorship_tag": "ABX9TyMDcsSR8P4laumXf3wcgknu",
      "include_colab_link": true
    },
    "kernelspec": {
      "name": "python3",
      "display_name": "Python 3"
    }
  },
  "cells": [
    {
      "cell_type": "markdown",
      "metadata": {
        "id": "view-in-github",
        "colab_type": "text"
      },
      "source": [
        "<a href=\"https://colab.research.google.com/github/pqt5124/Practice1/blob/master/Lab1Final.ipynb\" target=\"_parent\"><img src=\"https://colab.research.google.com/assets/colab-badge.svg\" alt=\"Open In Colab\"/></a>"
      ]
    },
    {
      "cell_type": "markdown",
      "metadata": {
        "id": "dgbXa4dxu8Ed",
        "colab_type": "text"
      },
      "source": [
        "## Do you like using Jupyter Notebooks?"
      ]
    },
    {
      "cell_type": "markdown",
      "metadata": {
        "id": "rdos9bv1vIJl",
        "colab_type": "text"
      },
      "source": [
        "Yes I like using it \n"
      ]
    },
    {
      "cell_type": "markdown",
      "metadata": {
        "id": "a-wMts45vS1w",
        "colab_type": "text"
      },
      "source": [
        "## What do you want to learn more about in Jupyter Notebooks\n"
      ]
    },
    {
      "cell_type": "markdown",
      "metadata": {
        "id": "KX9mqDX_vYN2",
        "colab_type": "text"
      },
      "source": [
        "I want to gain more knowledge abut this subject "
      ]
    },
    {
      "cell_type": "markdown",
      "metadata": {
        "id": "CR8qQsvuviBq",
        "colab_type": "text"
      },
      "source": [
        "![Yoda meam](https://raw.githubusercontent.com/pqt5124/Practice1/master/images/15049309-CBC3-4889-A037-F72938071D4F_1_201_a.jpeg)"
      ]
    }
  ]
}